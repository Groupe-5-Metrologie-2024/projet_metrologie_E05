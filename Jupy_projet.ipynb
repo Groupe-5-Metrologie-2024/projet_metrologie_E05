{
 "cells": [
  {
   "cell_type": "markdown",
   "metadata": {},
   "source": [
    "Les importations de modules :"
   ]
  },
  {
   "cell_type": "code",
   "execution_count": null,
   "metadata": {},
   "outputs": [],
   "source": [
    "import csv\n",
    "import matplotlib.pyplot as plt\n",
    "import numpy as np\n",
    "import statistics as stat\n",
    "import scipy\n",
    "\n"
   ]
  },
  {
   "cell_type": "markdown",
   "metadata": {},
   "source": [
    "Les fonctions utilisées sont :"
   ]
  },
  {
   "cell_type": "code",
   "execution_count": null,
   "metadata": {},
   "outputs": [],
   "source": [
    "\n",
    "#ouvrir un fichier et return une liste avec les valeurs\n",
    "\n",
    "#-----------\n",
    "def ouverture_fichier(nomfichier):\n",
    "    with open(nomfichier, 'r') as csvfile:\n",
    "        csvreader = csv.reader(csvfile)\n",
    "        xc = []\n",
    "        i = 0\n",
    "        for row in csvreader:\n",
    "            xc.append(float(row[1]))\n",
    "            i += 1\n",
    "            if i >= 1000:\n",
    "                break\n",
    "    return xc\n",
    "#-----------\n",
    "\n",
    "\n",
    "#Equations\n",
    "\n",
    "#------------ Calcul de delta z\n",
    "\n"
   ]
  },
  {
   "cell_type": "markdown",
   "metadata": {},
   "source": [
    "Generation de Graphiques :"
   ]
  },
  {
   "cell_type": "code",
   "execution_count": null,
   "metadata": {},
   "outputs": [],
   "source": [
    "\n",
    "#Recevoir/ouvrir CSV thermometre\n",
    "nom_fichier_temperature = \"/Users/ewenmaugey/Desktop/PHS2903/codeprojet/resistance_ewen.lvm\"     # Remplacez \"mon_fichier.csv\" par le nom de votre fichier CSV\n",
    "                                \n",
    "nom_fichier_resistivite = \"/Users/ewenmaugey/Desktop/PHS2903/codeprojet/resistance_ewen.lvm\"     # Remplacez \"mon_fichier.csv\" par le nom de votre fichier CSV\n",
    "\n",
    "#Faire les variables x = resistivite | y = temperature\n",
    "\n",
    "x = ouverture_fichier(nom_fichier_temperature)\n",
    "print('temperature',x)  \n",
    "\n",
    "y = ouverture_fichier(nom_fichier_resistivite)\n",
    "print('resistivite',y)  \n",
    "\n",
    "# Tracer le graphique\n",
    "plt.plot(x, y)  \n",
    "plt.xlabel('Température')  \n",
    "plt.ylabel('Résistivité')  \n",
    "plt.title('Graphique de la résistivite de l\\'echantillon en fonction de la temperature')  \n",
    "plt.grid(True)  \n",
    "plt.show()  \n"
   ]
  }
 ],
 "metadata": {
  "kernelspec": {
   "display_name": "Python 3",
   "language": "python",
   "name": "python3"
  },
  "language_info": {
   "name": "python",
   "version": "3.9.6"
  }
 },
 "nbformat": 4,
 "nbformat_minor": 2
}
