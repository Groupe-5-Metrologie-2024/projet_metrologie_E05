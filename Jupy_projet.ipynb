{
 "cells": [
  {
   "cell_type": "markdown",
   "metadata": {},
   "source": [
    "Les importations de modules :"
   ]
  },
  {
   "cell_type": "code",
   "execution_count": null,
   "metadata": {},
   "outputs": [],
   "source": [
    "import csv\n",
    "import matplotlib.pyplot as plt\n",
    "import numpy as np\n",
    "import statistics as stat\n",
    "import scipy\n",
    "import numpy as np\n",
    "from scipy.special import kv, iv\n"
   ]
  },
  {
   "cell_type": "markdown",
   "metadata": {},
   "source": [
    "Les fonctions utilisées sont :"
   ]
  },
  {
   "cell_type": "code",
   "execution_count": null,
   "metadata": {},
   "outputs": [],
   "source": [
    "\n",
    "#ouvrir un fichier et return une liste avec les valeurs\n",
    "\n",
    "#-----------\n",
    "def ouverture_fichier(nomfichier):\n",
    "    with open(nomfichier, 'r') as csvfile:\n",
    "        csvreader = csv.reader(csvfile)\n",
    "        xc = []\n",
    "        i = 0\n",
    "        for row in csvreader:\n",
    "            xc.append(float(row[1]))\n",
    "            i += 1\n",
    "            if i >= 1000:\n",
    "                break\n",
    "    return xc\n",
    "#-----------\n",
    "\n",
    "\n",
    "#Equations\n",
    "\n",
    "#------------ Calcul de delta z\n",
    "\n",
    "# Paramètres du circuit\n",
    "omega = 0                       # Fréquence angulaire en rad/s\n",
    "mu_0 = 0                        # Perméabilité du vide en Tm/A\n",
    "mu = 0                          # Permeabilite du materiaux\n",
    "mu_m = mu / mu_0                # µ/µ_0\n",
    "a = 0                           # Rayon du solénoïde en m\n",
    "n = 0                           # Nombre de spires du solénoïde\n",
    "epsilon_0 = 0                   # Permittivité du vide en F/m\n",
    "epsilon = 0                     # Permittivité de la tige en F/m\n",
    "b = 0                           # Rayon de la tige conductrice en m\n",
    "rho = 0                         # Résistivité de la tige conductrice en ohm/m\n",
    "\n",
    "# Calculs supplémentaires\n",
    "zeta = np.sqrt((omega ** 2) * mu_0 * epsilon_0)\n",
    "eta = np.sqrt(zeta ** 2 - (omega ** 2) * mu_0 * epsilon_0)\n",
    "gamma = b * np.sqrt(zeta ** 2 + (1j * omega * mu_m / rho) - (omega ** 2) * mu_m * epsilon)\n",
    "\n",
    "# Fonctions de Bessels modifiées\n",
    "I_0 = iv(0, gamma)\n",
    "I_1 = iv(1, gamma)\n",
    "K_0 = kv(0, eta * a)\n",
    "K_1 = kv(1, eta * a)\n",
    "\n",
    "\n",
    "def Calcul_integrale() :\n",
    "\n",
    "    return\n",
    "\n",
    "integrale = Calcul_integrale()\n",
    "\n",
    "def delta_z() :\n",
    "\n",
    "    resultat = ... * integrale\n",
    "\n",
    "    return resultat\n",
    "\n",
    "#--------------\n",
    "\n"
   ]
  },
  {
   "cell_type": "markdown",
   "metadata": {},
   "source": [
    "Generation de Graphiques :"
   ]
  },
  {
   "cell_type": "code",
   "execution_count": null,
   "metadata": {},
   "outputs": [],
   "source": [
    "\n",
    "#Recevoir/ouvrir CSV thermometre\n",
    "nom_fichier_temperature = \"/Users/ewenmaugey/Desktop/PHS2903/codeprojet/resistance_ewen.lvm\"     # Remplacez \"mon_fichier.csv\" par le nom de votre fichier CSV\n",
    "                                \n",
    "nom_fichier_resistivite = \"/Users/ewenmaugey/Desktop/PHS2903/codeprojet/resistance_ewen.lvm\"     # Remplacez \"mon_fichier.csv\" par le nom de votre fichier CSV\n",
    "\n",
    "#Faire les variables x = resistivite | y = temperature\n",
    "\n",
    "x = ouverture_fichier(nom_fichier_temperature)\n",
    "print('temperature',x)  \n",
    "\n",
    "y = ouverture_fichier(nom_fichier_resistivite)\n",
    "print('resistivite',y)  \n",
    "\n",
    "# Tracer le graphique\n",
    "plt.plot(x, y)  \n",
    "plt.xlabel('Température')  \n",
    "plt.ylabel('Résistivité')  \n",
    "plt.title('Graphique de la résistivite de l\\'echantillon en fonction de la temperature')  \n",
    "plt.grid(True)  \n",
    "plt.show()  \n"
   ]
  },
  {
   "cell_type": "markdown",
   "metadata": {},
   "source": [
    "Communication entre Ordinateur-Arduino"
   ]
  },
  {
   "cell_type": "code",
   "execution_count": null,
   "metadata": {},
   "outputs": [],
   "source": [
    "import serial\n",
    "import csv\n",
    "import time\n",
    "\n",
    "# Ouvre la connexion série avec la carte Arduino\n",
    "arduino = serial.Serial('/dev/ttyACM0', 9600)  # Assure-toi de changer '/dev/ttyACM0' par le bon port série\n",
    "\n",
    "# Envoie une commande à l'Arduino pour qu'il commence l'acquisition de données\n",
    "arduino.write(b'start_data_acquisition\\n')\n",
    "\n",
    "# Attend la réponse de l'Arduino\n",
    "while True:\n",
    "    response = arduino.readline().strip()\n",
    "    if response == b'data_ready':\n",
    "        break"
   ]
  },
  {
   "cell_type": "code",
   "execution_count": null,
   "metadata": {},
   "outputs": [],
   "source": [
    "#C++"
   ]
  },
  {
   "cell_type": "markdown",
   "metadata": {},
   "source": [
    "Communication entre Ordianteur-NimyDaq"
   ]
  },
  {
   "cell_type": "code",
   "execution_count": null,
   "metadata": {},
   "outputs": [],
   "source": [
    "#py"
   ]
  },
  {
   "cell_type": "code",
   "execution_count": null,
   "metadata": {},
   "outputs": [],
   "source": [
    "#Labview"
   ]
  }
 ],
 "metadata": {
  "kernelspec": {
   "display_name": "Python 3",
   "language": "python",
   "name": "python3"
  },
  "language_info": {
   "name": "python",
   "version": "3.9.6"
  }
 },
 "nbformat": 4,
 "nbformat_minor": 2
}
