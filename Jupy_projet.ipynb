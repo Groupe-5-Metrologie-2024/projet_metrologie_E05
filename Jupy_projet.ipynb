{
 "cells": [
  {
   "cell_type": "markdown",
   "metadata": {},
   "source": [
    "Les importations de modules :"
   ]
  },
  {
   "cell_type": "code",
   "execution_count": null,
   "metadata": {},
   "outputs": [],
   "source": [
    "import csv\n",
    "import matplotlib.pyplot as plt\n",
    "import numpy as np\n",
    "import statistics as stat\n",
    "import scipy\n",
    "import numpy as np\n",
    "from scipy.special import kv, iv\n",
    "import os\n",
    "import time\n"
   ]
  },
  {
   "cell_type": "markdown",
   "metadata": {},
   "source": [
    "Les fonctions utilisées sont :"
   ]
  },
  {
   "cell_type": "markdown",
   "metadata": {},
   "source": [
    "Transformer un CSV en liste (good)"
   ]
  },
  {
   "cell_type": "code",
   "execution_count": 4,
   "metadata": {},
   "outputs": [],
   "source": [
    "\n",
    "def ouverture_fichier(nomfichier):\n",
    "    with open(nomfichier, 'r') as csvfile:\n",
    "        csvreader = csv.reader(csvfile)\n",
    "        xc = []\n",
    "        i = 0\n",
    "        for row in csvreader:\n",
    "            xc.append(float(row[1]))\n",
    "            i += 1\n",
    "            if i >= 1000:\n",
    "                break\n",
    "    return xc"
   ]
  },
  {
   "cell_type": "markdown",
   "metadata": {},
   "source": [
    "Parametres du circuit"
   ]
  },
  {
   "cell_type": "code",
   "execution_count": null,
   "metadata": {},
   "outputs": [],
   "source": [
    "# Paramètres du circuit\n",
    "omega = 0                       # Fréquence angulaire en rad/s\n",
    "mu_0 = 0                        # Perméabilité du vide en Tm/A\n",
    "mu = 0                          # Permeabilite du materiaux\n",
    "mu_m = mu / mu_0                # µ/µ_0\n",
    "a = 0                           # Rayon du solénoïde en m\n",
    "n = 0                           # Nombre de spires du solénoïde\n",
    "epsilon_0 = 0                   # Permittivité du vide en F/m\n",
    "epsilon = 0                     # Permittivité de la tige en F/m\n",
    "b = 0                           # Rayon de la tige conductrice en m\n",
    "rho = 0                         # Résistivité de la tige conductrice en ohm/m\n",
    "\n",
    "# Calculs supplémentaires\n",
    "zeta = np.sqrt((omega ** 2) * mu_0 * epsilon_0)\n",
    "eta = np.sqrt(zeta ** 2 - (omega ** 2) * mu_0 * epsilon_0)\n",
    "gamma = b * np.sqrt(zeta ** 2 + (1j * omega * mu_m / rho) - (omega ** 2) * mu_m * epsilon)\n",
    "\n",
    "# Fonctions de Bessels modifiées\n",
    "I_0 = iv(0, gamma)\n",
    "I_1 = iv(1, gamma)\n",
    "K_0 = kv(0, eta * a)\n",
    "K_1 = kv(1, eta * a)"
   ]
  },
  {
   "cell_type": "markdown",
   "metadata": {},
   "source": [
    "Production CSV pour resistivite (finir la premiere fonciton : \"calcul_resistivite\")\n",
    "Le reste devrait fonctioner"
   ]
  },
  {
   "cell_type": "markdown",
   "metadata": {},
   "source": [
    "Calcul de la resistivite (NOT good)"
   ]
  },
  {
   "cell_type": "code",
   "execution_count": null,
   "metadata": {},
   "outputs": [],
   "source": [
    "def calcul_resitivite() :\n",
    "    Liste = []\n",
    "    x = [1,2,3]\n",
    "    for i in x :\n",
    "        Liste.append(i)\n",
    "\n",
    "    return Liste"
   ]
  },
  {
   "cell_type": "markdown",
   "metadata": {},
   "source": [
    "Transformer une liste en CSV (Good)"
   ]
  },
  {
   "cell_type": "code",
   "execution_count": null,
   "metadata": {},
   "outputs": [],
   "source": [
    "\n",
    "def list_to_csv(input_list, file_name):\n",
    "\n",
    "    # Obtenir le chemin du dossier actuel\n",
    "    current_directory = os.getcwd()\n",
    "    # Combiner le chemin du dossier avec le nom du fichier\n",
    "    file_path = os.path.join(current_directory, file_name)\n",
    "    \n",
    "    with open(file_path, 'w', newline='') as csvfile:\n",
    "        writer = csv.writer(csvfile)\n",
    "        for row in input_list:\n",
    "            writer.writerow([row])\n"
   ]
  },
  {
   "cell_type": "markdown",
   "metadata": {},
   "source": [
    "Fonction permettant de faire tout le calcul et de produire le CSV (Good)"
   ]
  },
  {
   "cell_type": "code",
   "execution_count": 3,
   "metadata": {},
   "outputs": [],
   "source": [
    "\n",
    "def Calcul_total(file_name) :\n",
    "    Lresultat = calcul_resitivite()\n",
    "    list_to_csv(Lresultat, file_name)\n",
    "\n",
    "file = \"Resistivite\"\n",
    "Calcul_total(file)"
   ]
  },
  {
   "cell_type": "markdown",
   "metadata": {},
   "source": [
    "Generation de Graphiques a l'aide des deux CSV (good)"
   ]
  },
  {
   "cell_type": "code",
   "execution_count": null,
   "metadata": {},
   "outputs": [],
   "source": [
    "\n",
    "#Recevoir/ouvrir CSV thermometre et resitivite\n",
    "\n",
    "nom_fichier_temperature = \"...\"     # Remplacez \"mon_fichier.csv\" par le nom de votre fichier CSV\n",
    "                                \n",
    "nom_fichier_resistivite = \"...\"     # Remplacez \"mon_fichier.csv\" par le nom de votre fichier CSV\n",
    "\n",
    "#Faire les variables x = resistivite | y = temperature\n",
    "\n",
    "x = ouverture_fichier(nom_fichier_temperature)\n",
    "print('temperature',x)  \n",
    "\n",
    "y = ouverture_fichier(nom_fichier_resistivite)\n",
    "print('resistivite',y)  \n",
    "\n",
    "# Tracer le graphique\n",
    "plt.plot(x, y)  \n",
    "plt.xlabel('Température')  \n",
    "plt.ylabel('Résistivité')  \n",
    "plt.title('Graphique de la résistivite de l\\'echantillon en fonction de la temperature')  \n",
    "plt.grid(True)  \n",
    "plt.show()  \n"
   ]
  },
  {
   "cell_type": "markdown",
   "metadata": {},
   "source": [
    "Calcul des incertitudes"
   ]
  },
  {
   "cell_type": "markdown",
   "metadata": {},
   "source": [
    "Incertitude de type A sur V (NOT good)"
   ]
  },
  {
   "cell_type": "code",
   "execution_count": 6,
   "metadata": {},
   "outputs": [
    {
     "name": "stdout",
     "output_type": "stream",
     "text": [
      "2.0 +/- 1.0\n"
     ]
    }
   ],
   "source": [
    "\n",
    "#Valeurs :\n",
    "\n",
    "N = 1                                                    #Nombre de musures prises\n",
    "lV = [1,2,3]                                             #Liste de toutes les mesures de voltage\n",
    "\n",
    "def moyenne_liste(input_list):\n",
    "\n",
    "    if len(input_list) == 0:\n",
    "        return 0  \n",
    "    else:\n",
    "        return sum(input_list) / len(input_list)\n",
    "\n",
    "Vmoy = moyenne_liste(lV)                            #moyenne des mesures de voltage       \n",
    "Sig_Vmax = 1                                        #Écart-type de la valeur maximale de tension sur la distributions des mesures  \n",
    "\n",
    "print(Vmoy, \"+/-\", Sig_Vmax/np.sqrt(N) )\n"
   ]
  },
  {
   "cell_type": "markdown",
   "metadata": {},
   "source": [
    "Fonction d'attente (good)"
   ]
  },
  {
   "cell_type": "code",
   "execution_count": null,
   "metadata": {},
   "outputs": [],
   "source": [
    "\n",
    "def attendre_fichier(nom_fichier, delai_attente=1):\n",
    "\n",
    "    while not os.path.exists(nom_fichier):\n",
    "        print(f\"En attente du fichier {nom_fichier}...\")\n",
    "        time.sleep(delai_attente)\n",
    "\n",
    "attendre_fichier(nom_fichier_resistivite)\n",
    "\n"
   ]
  },
  {
   "cell_type": "markdown",
   "metadata": {},
   "source": [
    "Mettre des , devant CSV"
   ]
  },
  {
   "cell_type": "code",
   "execution_count": null,
   "metadata": {},
   "outputs": [],
   "source": [
    "import csv\n",
    "\n",
    "# Chemin vers votre fichier CSV d'entrée et de sortie\n",
    "fichier_entree = \"Temperature\"\n",
    "fichier_sortie = \"Temperature\"\n",
    "\n",
    "# Ouvrir le fichier d'entrée en mode lecture et le fichier de sortie en mode écriture\n",
    "with open(fichier_entree, 'r', newline='') as csv_entree, open(fichier_sortie, 'w', newline='') as csv_sortie:\n",
    "    lecteur_csv = csv.reader(csv_entree)\n",
    "    ecrivain_csv = csv.writer(csv_sortie)\n",
    "    \n",
    "    # Lire les lignes du fichier CSV\n",
    "    lignes = list(lecteur_csv)\n",
    "    \n",
    "    # Modifier la première ligne pour ajouter une virgule devant chaque nombre\n",
    "    if lignes:\n",
    "        premiere_ligne_modifiee = [',' + element if element.isdigit() else element for element in lignes[0]]\n",
    "        lignes[0] = premiere_ligne_modifiee\n",
    "        \n",
    "        # Écrire les lignes modifiées dans le fichier de sortie\n",
    "        ecrivain_csv.writerows(lignes)\n",
    "        print(\"Le fichier a été traité avec succès.\")\n",
    "    else:\n",
    "        print(\"Le fichier CSV est vide.\")\n"
   ]
  },
  {
   "cell_type": "markdown",
   "metadata": {},
   "source": [
    "Incertitue de type B sur V"
   ]
  },
  {
   "cell_type": "code",
   "execution_count": null,
   "metadata": {},
   "outputs": [],
   "source": [
    "#code"
   ]
  },
  {
   "cell_type": "markdown",
   "metadata": {},
   "source": [
    "Incertitude de totale de V"
   ]
  },
  {
   "cell_type": "code",
   "execution_count": null,
   "metadata": {},
   "outputs": [],
   "source": [
    "#code"
   ]
  },
  {
   "cell_type": "markdown",
   "metadata": {},
   "source": [
    "Propagation de l'incertitude de V"
   ]
  },
  {
   "cell_type": "code",
   "execution_count": null,
   "metadata": {},
   "outputs": [],
   "source": [
    "#code"
   ]
  },
  {
   "cell_type": "markdown",
   "metadata": {},
   "source": [
    "Incertitude résistance R"
   ]
  },
  {
   "cell_type": "code",
   "execution_count": null,
   "metadata": {},
   "outputs": [],
   "source": [
    "#code"
   ]
  },
  {
   "cell_type": "markdown",
   "metadata": {},
   "source": [
    "Incertitude résitivite p"
   ]
  },
  {
   "cell_type": "code",
   "execution_count": null,
   "metadata": {},
   "outputs": [],
   "source": [
    "#code"
   ]
  }
 ],
 "metadata": {
  "kernelspec": {
   "display_name": "Python 3",
   "language": "python",
   "name": "python3"
  },
  "language_info": {
   "codemirror_mode": {
    "name": "ipython",
    "version": 3
   },
   "file_extension": ".py",
   "mimetype": "text/x-python",
   "name": "python",
   "nbconvert_exporter": "python",
   "pygments_lexer": "ipython3",
   "version": "3.9.6"
  }
 },
 "nbformat": 4,
 "nbformat_minor": 2
}
