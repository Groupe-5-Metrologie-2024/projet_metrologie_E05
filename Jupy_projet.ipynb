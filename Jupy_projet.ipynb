{
 "cells": [
  {
   "cell_type": "markdown",
   "metadata": {},
   "source": [
    "Les importations de modules :"
   ]
  },
  {
   "cell_type": "code",
   "execution_count": null,
   "metadata": {},
   "outputs": [],
   "source": [
    "import csv\n",
    "import matplotlib.pyplot as plt\n",
    "import numpy as np\n",
    "import statistics as stat\n",
    "import scipy\n",
    "import numpy as np\n",
    "from scipy.special import kv, iv\n",
    "import os\n",
    "import time\n",
    "from scipy.interpolate import interp1d\n",
    "from scipy.constants import mu_0\n",
    "from scipy.constants import epsilon_0\n",
    "from scipy.integrate import quad\n",
    "from scipy.special import iv as I\n",
    "from scipy.special import kv as K\n",
    "from scipy.optimize import fsolve"
   ]
  },
  {
   "cell_type": "markdown",
   "metadata": {},
   "source": [
    "Les fonctions utilisées sont :"
   ]
  },
  {
   "cell_type": "code",
   "execution_count": null,
   "metadata": {},
   "outputs": [],
   "source": [
    "\n",
    "def ouverture_fichier(nomfichier):\n",
    "    with open(nomfichier, 'r') as csvfile:\n",
    "        csvreader = csv.reader(csvfile)\n",
    "        xc = []\n",
    "        i = 0\n",
    "        for row in csvreader:\n",
    "            xc.append(float(row[1]))\n",
    "            i += 1\n",
    "            if i >= 1000:\n",
    "                break\n",
    "    return xc\n",
    "\n",
    "def list_to_csv(input_list, file_name):\n",
    "\n",
    "    # Obtenir le chemin du dossier actuel\n",
    "    current_directory = os.getcwd()\n",
    "    # Combiner le chemin du dossier avec le nom du fichier\n",
    "    file_path = os.path.join(current_directory, file_name)\n",
    "    \n",
    "    with open(file_path, 'w', newline='') as csvfile:\n",
    "        writer = csv.writer(csvfile)\n",
    "        for row in input_list:\n",
    "            writer.writerow([row])\n",
    "\n",
    "def attendre_fichier(nom_fichier, delai_attente=1):\n",
    "\n",
    "    while not os.path.exists(nom_fichier):\n",
    "        print(f\"En attente du fichier {nom_fichier}...\")\n",
    "        time.sleep(delai_attente)\n",
    "\n",
    "def modifier_virgule_csv(fichier_entree, fichier_sortie):\n",
    "\n",
    "    with open(fichier_entree, 'r', newline='') as csv_entree, open(fichier_sortie, 'w', newline='') as csv_sortie:\n",
    "        lecteur_csv = csv.reader(csv_entree)\n",
    "        ecrivain_csv = csv.writer(csv_sortie)\n",
    "        \n",
    "        # Parcourir chaque ligne du fichier CSV\n",
    "        for ligne in lecteur_csv:\n",
    "            ligne_modifiee = []\n",
    "            # Parcourir chaque élément de la ligne\n",
    "            for element in ligne:\n",
    "                try:\n",
    "                    # Tente de convertir l'élément en un nombre\n",
    "                    nombre = float(element)\n",
    "                    # Si la conversion réussit, ajoute une virgule devant le nombre\n",
    "                    ligne_modifiee.append(',' + element)\n",
    "                except ValueError:\n",
    "                    # Si la conversion échoue, conserve l'élément tel quel\n",
    "                    ligne_modifiee.append(element)\n",
    "            \n",
    "            # Écrire la ligne modifiée dans le fichier de sortie\n",
    "            csv_sortie.write(','.join(ligne_modifiee) + '\\n')\n",
    "\n",
    "def conserver_premieres_lignes(fichier_entree, nombre_lignes_conservees, fichier_sortie):\n",
    "    # Ouvrir le fichier d'entrée en mode lecture et le fichier de sortie en mode écriture\n",
    "    with open(fichier_entree, 'r', newline='') as csv_entree, open(fichier_sortie, 'w', newline='') as csv_sortie:\n",
    "        lecteur_csv = csv.reader(csv_entree)\n",
    "        ecrivain_csv = csv.writer(csv_sortie)\n",
    "        \n",
    "        # Parcourir chaque ligne du fichier CSV\n",
    "        for indice_ligne, ligne in enumerate(lecteur_csv, start=1):\n",
    "            # Écrire la ligne dans le fichier de sortie si elle est avant ou à la ligne spécifiée\n",
    "            if indice_ligne <= nombre_lignes_conservees:\n",
    "                ecrivain_csv.writerow(ligne)\n",
    "            else:\n",
    "                # Si on a atteint la ligne spécifiée, sortir de la boucle\n",
    "                break\n",
    "\n",
    "def supprimer_premiere_ligne(fichier_entree, fichier_sortie):\n",
    "    lignes_restantes = []\n",
    "    with open(fichier_entree, 'r', newline='') as csv_entree:\n",
    "        lecteur_csv = csv.reader(csv_entree)\n",
    "        # Ignorer la première ligne\n",
    "        next(lecteur_csv)\n",
    "        # Collecter les lignes restantes\n",
    "        for ligne in lecteur_csv:\n",
    "            lignes_restantes.append(ligne)\n",
    "    \n",
    "    # Écrire les lignes restantes dans le fichier de sortie\n",
    "    with open(fichier_sortie, 'w', newline='') as csv_sortie:\n",
    "        ecrivain_csv = csv.writer(csv_sortie)\n",
    "        ecrivain_csv.writerows(lignes_restantes)\n",
    "\n",
    "def supprimer_fichier(fichier):\n",
    "    try:\n",
    "        os.remove(fichier)\n",
    "        print(f\"Le fichier {fichier} a été supprimé avec succès.\")\n",
    "    except FileNotFoundError:\n",
    "        print(f\"Le fichier {fichier} n'existe pas.\")\n",
    "    except Exception as e:\n",
    "        print(f\"Une erreur s'est produite lors de la suppression du fichier : {e}\")\n",
    "\n",
    "def generate_csv(filename, start, end):\n",
    "    with open(filename, 'w', newline='') as csvfile:\n",
    "        csv_writer = csv.writer(csvfile)\n",
    "        for i in range(start, end+1):\n",
    "            csv_writer.writerow([i])"
   ]
  },
  {
   "cell_type": "markdown",
   "metadata": {},
   "source": [
    "Transformer un CSV en liste (good)"
   ]
  },
  {
   "cell_type": "code",
   "execution_count": 4,
   "metadata": {},
   "outputs": [],
   "source": [
    "\n",
    "def ouverture_fichier(nomfichier):\n",
    "    with open(nomfichier, 'r') as csvfile:\n",
    "        csvreader = csv.reader(csvfile)\n",
    "        xc = []\n",
    "        i = 0\n",
    "        for row in csvreader:\n",
    "            xc.append(float(row[1]))\n",
    "            i += 1\n",
    "            if i >= 1000:\n",
    "                break\n",
    "    return xc\n"
   ]
  },
  {
   "cell_type": "markdown",
   "metadata": {},
   "source": [
    "Parametres du circuit"
   ]
  },
  {
   "cell_type": "code",
   "execution_count": null,
   "metadata": {},
   "outputs": [],
   "source": [
    "# Paramètres du circuit\n",
    "omega = 0                       # Fréquence angulaire en rad/s\n",
    "mu_0 = 0                        # Perméabilité du vide en Tm/A\n",
    "mu = 0                          # Permeabilite du materiaux\n",
    "mu_m = mu / mu_0                # µ/µ_0\n",
    "a = 0                           # Rayon du solénoïde en m\n",
    "n = 0                           # Nombre de spires du solénoïde\n",
    "epsilon_0 = 0                   # Permittivité du vide en F/m\n",
    "epsilon = 0                     # Permittivité de la tige en F/m\n",
    "b = 0                           # Rayon de la tige conductrice en m\n",
    "rho = 0                         # Résistivité de la tige conductrice en ohm/m\n",
    "\n",
    "# Calculs supplémentaires\n",
    "zeta = np.sqrt((omega ** 2) * mu_0 * epsilon_0)\n",
    "eta = np.sqrt(zeta ** 2 - (omega ** 2) * mu_0 * epsilon_0)\n",
    "gamma = b * np.sqrt(zeta ** 2 + (1j * omega * mu_m / rho) - (omega ** 2) * mu_m * epsilon)\n",
    "\n",
    "# Fonctions de Bessels modifiées\n",
    "I_0 = iv(0, gamma)\n",
    "I_1 = iv(1, gamma)\n",
    "K_0 = kv(0, eta * a)\n",
    "K_1 = kv(1, eta * a)"
   ]
  },
  {
   "cell_type": "markdown",
   "metadata": {},
   "source": [
    "Production CSV pour resistivite (finir la premiere fonciton : \"calcul_resistivite\")\n",
    "Le reste devrait fonctioner"
   ]
  },
  {
   "cell_type": "markdown",
   "metadata": {},
   "source": [
    "Transformer une liste en CSV (Good)"
   ]
  },
  {
   "cell_type": "code",
   "execution_count": null,
   "metadata": {},
   "outputs": [],
   "source": [
    "\n",
    "def list_to_csv(input_list, file_name):\n",
    "\n",
    "    # Obtenir le chemin du dossier actuel\n",
    "    current_directory = os.getcwd()\n",
    "    # Combiner le chemin du dossier avec le nom du fichier\n",
    "    file_path = os.path.join(current_directory, file_name)\n",
    "    \n",
    "    with open(file_path, 'w', newline='') as csvfile:\n",
    "        writer = csv.writer(csvfile)\n",
    "        for row in input_list:\n",
    "            writer.writerow([row])\n"
   ]
  },
  {
   "cell_type": "markdown",
   "metadata": {},
   "source": [
    "Generation de Graphiques a l'aide des deux CSV (good)"
   ]
  },
  {
   "cell_type": "code",
   "execution_count": null,
   "metadata": {},
   "outputs": [],
   "source": [
    "\n",
    "#Recevoir/ouvrir CSV thermometre et resitivite\n",
    "\n",
    "nom_fichier_temperature = \"...\"     # Remplacez \"mon_fichier.csv\" par le nom de votre fichier CSV\n",
    "                                \n",
    "nom_fichier_resistivite = \"...\"     # Remplacez \"mon_fichier.csv\" par le nom de votre fichier CSV\n",
    "\n",
    "#Faire les variables x = resistivite | y = temperature\n",
    "\n",
    "x = ouverture_fichier(nom_fichier_temperature)\n",
    "print('temperature',x)  \n",
    "\n",
    "y = ouverture_fichier(nom_fichier_resistivite)\n",
    "print('resistivite',y)  \n",
    "\n",
    "# Tracer le graphique\n",
    "plt.plot(x, y)  \n",
    "plt.xlabel('Température')  \n",
    "plt.ylabel('Résistivité')  \n",
    "plt.title('Graphique de la résistivite de l\\'echantillon en fonction de la temperature')  \n",
    "plt.grid(True)  \n",
    "plt.show()  \n"
   ]
  },
  {
   "cell_type": "markdown",
   "metadata": {},
   "source": [
    "Calcul des incertitudes"
   ]
  },
  {
   "cell_type": "markdown",
   "metadata": {},
   "source": [
    "Incertitude de type A sur V (NOT good)"
   ]
  },
  {
   "cell_type": "code",
   "execution_count": 6,
   "metadata": {},
   "outputs": [
    {
     "name": "stdout",
     "output_type": "stream",
     "text": [
      "2.0 +/- 1.0\n"
     ]
    }
   ],
   "source": [
    "\n",
    "#Valeurs :\n",
    "\n",
    "N = 1                                                    #Nombre de musures prises\n",
    "lV = [1,2,3]                                             #Liste de toutes les mesures de voltage\n",
    "\n",
    "def moyenne_liste(input_list):\n",
    "\n",
    "    if len(input_list) == 0:\n",
    "        return 0  \n",
    "    else:\n",
    "        return sum(input_list) / len(input_list)\n",
    "\n",
    "Vmoy = moyenne_liste(lV)                            #moyenne des mesures de voltage       \n",
    "Sig_Vmax = 1                                        #Écart-type de la valeur maximale de tension sur la distributions des mesures  \n",
    "\n",
    "print(Vmoy, \"+/-\", Sig_Vmax/np.sqrt(N) )\n"
   ]
  },
  {
   "cell_type": "markdown",
   "metadata": {},
   "source": [
    "Fonction d'attente (good)"
   ]
  },
  {
   "cell_type": "code",
   "execution_count": null,
   "metadata": {},
   "outputs": [],
   "source": [
    "\n",
    "def attendre_fichier(nom_fichier, delai_attente=1):\n",
    "\n",
    "    while not os.path.exists(nom_fichier):\n",
    "        print(f\"En attente du fichier {nom_fichier}...\")\n",
    "        time.sleep(delai_attente)\n",
    "\n",
    "attendre_fichier(nom_fichier_resistivite)\n",
    "\n"
   ]
  },
  {
   "cell_type": "markdown",
   "metadata": {},
   "source": [
    "Mettre des , devant CSV (good)"
   ]
  },
  {
   "cell_type": "code",
   "execution_count": 7,
   "metadata": {},
   "outputs": [
    {
     "name": "stdout",
     "output_type": "stream",
     "text": [
      "Le fichier a été traité avec succès.\n"
     ]
    }
   ],
   "source": [
    "\n",
    "def modifier_virgule_csv(fichier_entree, fichier_sortie):\n",
    "\n",
    "    with open(fichier_entree, 'r', newline='') as csv_entree, open(fichier_sortie, 'w', newline='') as csv_sortie:\n",
    "        lecteur_csv = csv.reader(csv_entree)\n",
    "        ecrivain_csv = csv.writer(csv_sortie)\n",
    "        \n",
    "        # Parcourir chaque ligne du fichier CSV\n",
    "        for ligne in lecteur_csv:\n",
    "            ligne_modifiee = []\n",
    "            # Parcourir chaque élément de la ligne\n",
    "            for element in ligne:\n",
    "                try:\n",
    "                    # Tente de convertir l'élément en un nombre\n",
    "                    nombre = float(element)\n",
    "                    # Si la conversion réussit, ajoute une virgule devant le nombre\n",
    "                    ligne_modifiee.append(',' + element)\n",
    "                except ValueError:\n",
    "                    # Si la conversion échoue, conserve l'élément tel quel\n",
    "                    ligne_modifiee.append(element)\n",
    "            \n",
    "            # Écrire la ligne modifiée dans le fichier de sortie\n",
    "            csv_sortie.write(','.join(ligne_modifiee) + '\\n')"
   ]
  },
  {
   "cell_type": "markdown",
   "metadata": {},
   "source": [
    "Ne garder que les 50 premieres valeurs du CSV (good)"
   ]
  },
  {
   "cell_type": "code",
   "execution_count": 9,
   "metadata": {},
   "outputs": [],
   "source": [
    "import csv\n",
    "\n",
    "def conserver_premieres_lignes(fichier_entree, nombre_lignes_conservees, fichier_sortie):\n",
    "    # Ouvrir le fichier d'entrée en mode lecture et le fichier de sortie en mode écriture\n",
    "    with open(fichier_entree, 'r', newline='') as csv_entree, open(fichier_sortie, 'w', newline='') as csv_sortie:\n",
    "        lecteur_csv = csv.reader(csv_entree)\n",
    "        ecrivain_csv = csv.writer(csv_sortie)\n",
    "        \n",
    "        # Parcourir chaque ligne du fichier CSV\n",
    "        for indice_ligne, ligne in enumerate(lecteur_csv, start=1):\n",
    "            # Écrire la ligne dans le fichier de sortie si elle est avant ou à la ligne spécifiée\n",
    "            if indice_ligne <= nombre_lignes_conservees:\n",
    "                ecrivain_csv.writerow(ligne)\n",
    "            else:\n",
    "                # Si on a atteint la ligne spécifiée, sortir de la boucle\n",
    "                break\n",
    "\n",
    "fichier_entree = \"votre_fichier.csv\"\n",
    "fichier_sortie = \"nouveau_fichier.csv\"\n",
    "nombre_lignes_conservees = 50\n",
    "conserver_premieres_lignes(fichier_entree, nombre_lignes_conservees, fichier_sortie)\n",
    "\n",
    "\n"
   ]
  },
  {
   "cell_type": "markdown",
   "metadata": {},
   "source": [
    "Supprimer premiere ligne CSV (good)"
   ]
  },
  {
   "cell_type": "code",
   "execution_count": 10,
   "metadata": {},
   "outputs": [],
   "source": [
    "import csv\n",
    "\n",
    "def supprimer_premiere_ligne(fichier_entree, fichier_sortie):\n",
    "    lignes_restantes = []\n",
    "    with open(fichier_entree, 'r', newline='') as csv_entree:\n",
    "        lecteur_csv = csv.reader(csv_entree)\n",
    "        # Ignorer la première ligne\n",
    "        next(lecteur_csv)\n",
    "        # Collecter les lignes restantes\n",
    "        for ligne in lecteur_csv:\n",
    "            lignes_restantes.append(ligne)\n",
    "    \n",
    "    # Écrire les lignes restantes dans le fichier de sortie\n",
    "    with open(fichier_sortie, 'w', newline='') as csv_sortie:\n",
    "        ecrivain_csv = csv.writer(csv_sortie)\n",
    "        ecrivain_csv.writerows(lignes_restantes)\n",
    "\n",
    "# Exemple d'utilisation de la fonction\n",
    "fichier_entree = \"Temperature\"\n",
    "fichier_sortie = \"Temperature2\"\n",
    "supprimer_premiere_ligne(fichier_entree, fichier_sortie)\n"
   ]
  },
  {
   "cell_type": "markdown",
   "metadata": {},
   "source": [
    "Supprimer un fichier CSV (good)"
   ]
  },
  {
   "cell_type": "code",
   "execution_count": null,
   "metadata": {},
   "outputs": [],
   "source": [
    "import os\n",
    "\n",
    "def supprimer_fichier(fichier):\n",
    "    try:\n",
    "        os.remove(fichier)\n",
    "        print(f\"Le fichier {fichier} a été supprimé avec succès.\")\n",
    "    except FileNotFoundError:\n",
    "        print(f\"Le fichier {fichier} n'existe pas.\")\n",
    "    except Exception as e:\n",
    "        print(f\"Une erreur s'est produite lors de la suppression du fichier : {e}\")\n",
    "\n",
    "# Exemple d'utilisation de la fonction\n",
    "fichier_a_supprimer = \"votre_fichier.csv\"\n",
    "supprimer_fichier(fichier_a_supprimer)\n"
   ]
  },
  {
   "cell_type": "markdown",
   "metadata": {},
   "source": [
    "generer csv (0,600)"
   ]
  },
  {
   "cell_type": "code",
   "execution_count": 42,
   "metadata": {},
   "outputs": [],
   "source": [
    "import csv\n",
    "\n",
    "# Fonction pour écrire les nombres dans le fichier CSV\n",
    "def generate_csv(filename, start, end):\n",
    "    with open(filename, 'w', newline='') as csvfile:\n",
    "        csv_writer = csv.writer(csvfile)\n",
    "        for i in range(start, end+1):\n",
    "            csv_writer.writerow([i])\n",
    "\n",
    "# Appel de la fonction pour générer le fichier CSV\n",
    "generate_csv('Temperature', 20, 50)"
   ]
  },
  {
   "cell_type": "markdown",
   "metadata": {},
   "source": [
    "Dupliquer des fichier"
   ]
  },
  {
   "cell_type": "code",
   "execution_count": 22,
   "metadata": {},
   "outputs": [
    {
     "name": "stdout",
     "output_type": "stream",
     "text": [
      "Fichier copié et renommé : Données/Données_molyb_2.lvm\n",
      "Fichier copié et renommé : Données/Données_molyb_3.lvm\n",
      "Fichier copié et renommé : Données/Données_molyb_4.lvm\n",
      "Fichier copié et renommé : Données/Données_molyb_5.lvm\n",
      "Fichier copié et renommé : Données/Données_molyb_6.lvm\n",
      "Fichier copié et renommé : Données/Données_molyb_7.lvm\n",
      "Fichier copié et renommé : Données/Données_molyb_8.lvm\n",
      "Fichier copié et renommé : Données/Données_molyb_9.lvm\n",
      "Fichier copié et renommé : Données/Données_molyb_10.lvm\n",
      "Fichier copié et renommé : Données/Données_molyb_11.lvm\n",
      "Fichier copié et renommé : Données/Données_molyb_12.lvm\n",
      "Fichier copié et renommé : Données/Données_molyb_13.lvm\n",
      "Fichier copié et renommé : Données/Données_molyb_14.lvm\n",
      "Fichier copié et renommé : Données/Données_molyb_15.lvm\n",
      "Fichier copié et renommé : Données/Données_molyb_16.lvm\n",
      "Fichier copié et renommé : Données/Données_molyb_17.lvm\n",
      "Fichier copié et renommé : Données/Données_molyb_18.lvm\n",
      "Fichier copié et renommé : Données/Données_molyb_19.lvm\n",
      "Fichier copié et renommé : Données/Données_molyb_20.lvm\n",
      "Fichier copié et renommé : Données/Données_molyb_21.lvm\n",
      "Fichier copié et renommé : Données/Données_molyb_22.lvm\n",
      "Fichier copié et renommé : Données/Données_molyb_23.lvm\n",
      "Fichier copié et renommé : Données/Données_molyb_24.lvm\n",
      "Fichier copié et renommé : Données/Données_molyb_25.lvm\n",
      "Fichier copié et renommé : Données/Données_molyb_26.lvm\n",
      "Fichier copié et renommé : Données/Données_molyb_27.lvm\n",
      "Fichier copié et renommé : Données/Données_molyb_28.lvm\n",
      "Fichier copié et renommé : Données/Données_molyb_29.lvm\n",
      "Fichier copié et renommé : Données/Données_molyb_30.lvm\n",
      "Fichier copié et renommé : Données/Données_molyb_31.lvm\n"
     ]
    }
   ],
   "source": [
    "import shutil\n",
    "\n",
    "# Chemin vers le fichier LVM d'origine\n",
    "chemin_fichier_origine = \"Données/Données_molyb_1.lvm\"\n",
    "\n",
    "# Boucle for pour copier et renommer le fichier\n",
    "for i in range(2, 32):\n",
    "    nom_fichier_destination = f\"Données/Données_molyb_{i}.lvm\"\n",
    "    shutil.copyfile(chemin_fichier_origine, nom_fichier_destination)\n",
    "    print(f\"Fichier copié et renommé : {nom_fichier_destination}\")\n"
   ]
  },
  {
   "cell_type": "markdown",
   "metadata": {},
   "source": [
    "Incertitue de type B sur V"
   ]
  },
  {
   "cell_type": "code",
   "execution_count": null,
   "metadata": {},
   "outputs": [],
   "source": [
    "#code"
   ]
  },
  {
   "cell_type": "markdown",
   "metadata": {},
   "source": [
    "Incertitude de totale de V"
   ]
  },
  {
   "cell_type": "code",
   "execution_count": null,
   "metadata": {},
   "outputs": [],
   "source": [
    "#code"
   ]
  },
  {
   "cell_type": "markdown",
   "metadata": {},
   "source": [
    "Propagation de l'incertitude de V"
   ]
  },
  {
   "cell_type": "code",
   "execution_count": null,
   "metadata": {},
   "outputs": [],
   "source": [
    "#code"
   ]
  },
  {
   "cell_type": "markdown",
   "metadata": {},
   "source": [
    "Incertitude résistance R"
   ]
  },
  {
   "cell_type": "code",
   "execution_count": null,
   "metadata": {},
   "outputs": [],
   "source": [
    "#code"
   ]
  },
  {
   "cell_type": "markdown",
   "metadata": {},
   "source": [
    "Incertitude résitivite p"
   ]
  },
  {
   "cell_type": "code",
   "execution_count": null,
   "metadata": {},
   "outputs": [],
   "source": [
    "#code"
   ]
  },
  {
   "cell_type": "markdown",
   "metadata": {},
   "source": [
    "Calculer le dephasage entre les sinus et produire un CSV avec 3000 rho Methode 1 "
   ]
  },
  {
   "cell_type": "code",
   "execution_count": 25,
   "metadata": {},
   "outputs": [
    {
     "name": "stdout",
     "output_type": "stream",
     "text": [
      "Utilisation du fichier Données_invar36 numero  1\n"
     ]
    },
    {
     "name": "stderr",
     "output_type": "stream",
     "text": [
      "/Users/ewenmaugey/Library/Python/3.9/lib/python/site-packages/scipy/optimize/_minpack_py.py:177: RuntimeWarning: The iteration is not making good progress, as measured by the \n",
      "  improvement from the last ten iterations.\n",
      "  warnings.warn(msg, RuntimeWarning)\n"
     ]
    },
    {
     "name": "stdout",
     "output_type": "stream",
     "text": [
      "Utilisation du fichier Données_invar36 numero  2\n",
      "Utilisation du fichier Données_invar36 numero  3\n",
      "Utilisation du fichier Données_invar36 numero  4\n",
      "Utilisation du fichier Données_invar36 numero  5\n",
      "Utilisation du fichier Données_invar36 numero  6\n",
      "Utilisation du fichier Données_invar36 numero  7\n",
      "Utilisation du fichier Données_invar36 numero  8\n",
      "Utilisation du fichier Données_invar36 numero  9\n",
      "Utilisation du fichier Données_invar36 numero  10\n",
      "Utilisation du fichier Données_invar36 numero  11\n",
      "Utilisation du fichier Données_invar36 numero  12\n",
      "Utilisation du fichier Données_invar36 numero  13\n",
      "Utilisation du fichier Données_invar36 numero  14\n",
      "Utilisation du fichier Données_invar36 numero  15\n",
      "Utilisation du fichier Données_invar36 numero  16\n",
      "Utilisation du fichier Données_invar36 numero  17\n",
      "Utilisation du fichier Données_invar36 numero  18\n",
      "Utilisation du fichier Données_invar36 numero  19\n",
      "Utilisation du fichier Données_invar36 numero  20\n",
      "Utilisation du fichier Données_invar36 numero  21\n",
      "Utilisation du fichier Données_invar36 numero  22\n",
      "Utilisation du fichier Données_invar36 numero  23\n",
      "Utilisation du fichier Données_invar36 numero  24\n",
      "Utilisation du fichier Données_invar36 numero  25\n",
      "Utilisation du fichier Données_invar36 numero  26\n",
      "Utilisation du fichier Données_invar36 numero  27\n",
      "Utilisation du fichier Données_invar36 numero  28\n",
      "Utilisation du fichier Données_invar36 numero  29\n",
      "Utilisation du fichier Données_invar36 numero  30\n",
      "Utilisation du fichier Données_invar36 numero  31\n",
      "fin des calculs\n",
      "production du csv\n"
     ]
    }
   ],
   "source": [
    "import csv\n",
    "import matplotlib.pyplot as plt\n",
    "import numpy as np\n",
    "import statistics as stat\n",
    "import scipy\n",
    "import numpy as np\n",
    "from scipy.special import kv, iv\n",
    "import os\n",
    "import time\n",
    "from scipy.interpolate import interp1d\n",
    "from scipy.constants import mu_0\n",
    "from scipy.constants import epsilon_0\n",
    "from scipy.integrate import quad\n",
    "from scipy.special import iv as I\n",
    "from scipy.special import kv as K\n",
    "from scipy.optimize import fsolve\n",
    "\n",
    "#Cuivre\n",
    "b = 1.59*10**(-3)\n",
    "omega = 2*np.pi*10**4\n",
    "mu0 = mu_0\n",
    "e0 = epsilon_0\n",
    "er = 1\n",
    "a = 10.43*10**(-3)/2\n",
    "n = 458\n",
    "rho_approx_cuivre = 1.7*10**(-8)\n",
    "\n",
    "#Molyb\n",
    "rho_approx_molyb = 5.7*10**(-8)\n",
    "\n",
    "#Invar36\n",
    "rho_approx_invar36 = 1\n",
    "\n",
    "def traitement_sinus(sinus,t) :\n",
    "    # Générer une liste de valeurs de sinus pour la première fonction\n",
    "    A = sinus\n",
    "\n",
    "    T = t\n",
    "\n",
    "    # Créer une fonction d'interpolation\n",
    "    f = interp1d(T, A, kind='cubic')\n",
    "#   \n",
    "    # Générer une plage de temps pour évaluer la fonction\n",
    "    x=np.linspace(0,t[len(t)-1],len(t)*10)\n",
    "    \n",
    "    # Calculer les valeurs interpolées\n",
    "    valeurs_interp = f(x)\n",
    "    # Calculer la dérivée numérique\n",
    "    dx = x[1] - x[0]\n",
    "\n",
    "    derivee_interp = np.gradient(valeurs_interp, dx)\n",
    "\n",
    "    # Trouver les zéros de la dérivée\n",
    "    zeros_indices_0 = np.where(np.diff(np.sign(derivee_interp)))[0]\n",
    "    zeros_indices = [zeros_indices_0[i] for i in range(len(zeros_indices_0)-1) if float(x[zeros_indices_0[i+1]]-x[zeros_indices_0[i]])>0.000025]\n",
    "\n",
    "    # Afficher les zéros de la dérivée\n",
    "    zeros_temps = x[zeros_indices]\n",
    "    zeros_valeurs = valeurs_interp[zeros_indices]\n",
    "    \n",
    "    return zeros_valeurs,zeros_temps\n",
    "\n",
    "def phase(output):\n",
    "    phaseurs = []\n",
    "    for i in range(len(output)-1):\n",
    "        Valeurs, temps = traitement_sinus(output[i],output[2])\n",
    "        max = [l for l in Valeurs if l>0]\n",
    "        min = [l for l in Valeurs if l<0]\n",
    "        voltage = (sum(max)/len(max)-sum(min)/len(min))/2\n",
    "\n",
    "        t = list(Valeurs).index(max[int(len(max)/2)])\n",
    "        dephasage = temps[t]\n",
    "        phaseur = voltage*np.exp(-1j*omega*dephasage)      \n",
    "        phaseurs.append(phaseur)\n",
    "    return phaseurs\n",
    "\n",
    "def f_re(xi,rho):\n",
    "    gamma = b*(xi**2+1j*omega*mur*mu0/rho-omega**2*mu0*mur*e0*er)**(1/2)\n",
    "    eta = (xi**2-omega**2*mu0*e0)**(1/2)\n",
    "    return np.real(np.sinc(xi/2)**2*(mur*eta*b*I(0,eta*b)*I(1,gamma)-gamma*I(1,eta*b)*I(0,gamma))/(mur*eta*b*K(0,eta*b)*I(1,gamma)+gamma*K(1,eta*b)*I(0,gamma))*K(1,eta*a)**2)\n",
    "\n",
    "def f_im(xi,rho):\n",
    "    gamma = b*(xi**2+1j*omega*mur*mu0/rho-omega**2*mu0*mur*e0*er)**(1/2)\n",
    "    eta = (xi**2-omega**2*mu0*e0)**(1/2)\n",
    "    return np.imag(np.sinc(xi/2)**2*(mur*eta*b*I(0,eta*b)*I(1,gamma)-gamma*I(1,eta*b)*I(0,gamma))/(mur*eta*b*K(0,eta*b)*I(1,gamma)+gamma*K(1,eta*b)*I(0,gamma))*K(1,eta*a)**2)\n",
    "\n",
    "def delta_R(rho,z):\n",
    "    return -omega*mu0*a**2*n**2*(quad(f_im, -40,40, args=(rho,))[0])-np.real(z)\n",
    "\n",
    "def delta_X(rho,z):\n",
    "    return omega*mu0*a**2*n**2*(quad(f_re, -40,40, args=(rho,))[0])-np.imag(z)\n",
    "\n",
    "def solve_z(z):\n",
    "    i=0\n",
    "    while True:\n",
    "        x = fsolve(delta_R, [10**(-10+i)],args = (z,))\n",
    "        y = fsolve(delta_X,x,args = (z,))\n",
    "        if np.isclose(x,y):\n",
    "            return x\n",
    "        else:\n",
    "            i+=1\n",
    "\n",
    "def f_integrale(xi,rho=rho_approx_cuivre,mur=1):\n",
    "    gamma = b*(xi**2+1j*omega*mur*mu0/rho-omega**2*mu0*mur*e0*er)**(1/2)\n",
    "    eta = (xi**2-omega**2*mu0*e0)**(1/2)\n",
    "    return np.sinc(xi/(2*np.pi))**2*(mur*eta*b*I(0,eta*b)*I(1,gamma)-gamma*I(1,eta*b)*I(0,gamma))/(mur*eta*b*K(0,eta*b)*I(1,gamma)+gamma*K(1,eta*b)*I(0,gamma))*K(1,eta*a)**2\n",
    "\n",
    "def delta_Z(x,z):\n",
    "        delta_Z = 1j*omega*mu0*a**2*n**2*quad(f_integrale, -80,80, args=(x[0],x[1],),complex_func=True,limit =100)[0]\n",
    "        return (np.real(delta_Z-z),np.imag(delta_Z-z)) \n",
    "\n",
    "def analyse_donnees(nomfichier):\n",
    "    with open(nomfichier, 'r') as csvfile:\n",
    "        csvreader = csv.reader(csvfile)\n",
    "        x_1 = []\n",
    "        x_2 = []\n",
    "        t = []\n",
    "        i = 0\n",
    "        for i in range(23):\n",
    "            next(csvreader)\n",
    "        for row in csvreader:\n",
    "            x_1.append(float(row[1]))\n",
    "            x_2.append(float(row[2]))\n",
    "            t.append(float(row[0]))\n",
    "    return [x_1,x_2,t]\n",
    "\n",
    "def list_to_csv(input_list, file_name):\n",
    "\n",
    "    # Obtenir le chemin du dossier actuel\n",
    "    current_directory = os.getcwd()\n",
    "    # Combiner le chemin du dossier avec le nom du fichier\n",
    "    file_path = os.path.join(current_directory, file_name)\n",
    "    \n",
    "    with open(file_path, 'w', newline='') as csvfile:\n",
    "        writer = csv.writer(csvfile)\n",
    "        for row in input_list:\n",
    "            writer.writerow([row])\n",
    "\n",
    "def TOTAL(Materiau):\n",
    "    rho = []\n",
    "    for i in range(1, 32):\n",
    "        print(f'Utilisation du fichier {Materiau} numero ',i)\n",
    "        try:\n",
    "            nom_fichier = f\"Données/{Materiau}_{i}.lvm\"\n",
    "\n",
    "            sinus_cuivre = analyse_donnees(nom_fichier)\n",
    "            phaseurs = phase(sinus_cuivre)\n",
    "\n",
    "            z_cuivre = 328*phaseurs[0]/phaseurs[1]/15.584                                          #On trouve l'impedance du materiau vrai\n",
    "\n",
    "            if Materiau == \"Données_cuivre\" :\n",
    "                rho_i = fsolve(delta_Z,[rho_approx_cuivre,1], args=(z_cuivre,))[0]\n",
    "            elif Materiau == \"Données_molyb\" :\n",
    "                rho_i = fsolve(delta_Z,[rho_approx_molyb,1], args=(z_cuivre,))[0]\n",
    "            else :\n",
    "                rho_i = fsolve(delta_Z,[rho_approx_invar36,1], args=(z_cuivre,))[0]\n",
    "            \n",
    "            rho.append(rho_i)\n",
    "\n",
    "            if i == 31 :\n",
    "                print('fin des calculs')\n",
    "                print('production du csv')\n",
    "            \n",
    "        except:\n",
    "            print('Erreur')\n",
    "            break\n",
    "\n",
    "    return rho\n",
    "\n",
    "Nom_materiau_utilisé = \"Données_invar36\"\n",
    "\n",
    "rho_f = TOTAL(Nom_materiau_utilisé)\n",
    "\n",
    "# Convertir les tableaux NumPy à une dimension en listes simples\n",
    "\n",
    "list_to_csv(rho_f,f'300_valeurs_de_rho_{Nom_materiau_utilisé}')\n"
   ]
  }
 ],
 "metadata": {
  "kernelspec": {
   "display_name": "Python 3.11.8 64-bit",
   "language": "python",
   "name": "python3"
  },
  "language_info": {
   "codemirror_mode": {
    "name": "ipython",
    "version": 3
   },
   "file_extension": ".py",
   "mimetype": "text/x-python",
   "name": "python",
   "nbconvert_exporter": "python",
   "pygments_lexer": "ipython3",
   "version": "3.9.6"
  },
  "vscode": {
   "interpreter": {
    "hash": "aee8b7b246df8f9039afb4144a1f6fd8d2ca17a180786b69acc140d282b71a49"
   }
  }
 },
 "nbformat": 4,
 "nbformat_minor": 2
}
